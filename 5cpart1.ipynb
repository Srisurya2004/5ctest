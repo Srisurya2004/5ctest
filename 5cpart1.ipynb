{
 "cells": [
  {
   "cell_type": "code",
   "execution_count": 1,
   "id": "706da712-d388-47cf-89e7-ea46f4e37322",
   "metadata": {},
   "outputs": [
    {
     "name": "stdout",
     "output_type": "stream",
     "text": [
      "1. Overall Gross Margin: 1207.1999999999998\n",
      "2. Most Profitable Vendor: Vendor7\n",
      "3. Least Profitable Customer: Customer9\n",
      "4. Most Profitable Day of the Week: Monday\n",
      "5. Least Profitable Day of the Week: Thursday\n"
     ]
    }
   ],
   "source": [
    "import pandas as pd\n",
    "\n",
    "# Load the CSV file into a DataFrame\n",
    "df = pd.read_csv(\"sales_data_1.csv\")\n",
    "\n",
    "# 1. Calculate the overall gross margin\n",
    "overall_gross_margin = (df[\"Selling price\"] - df[\"Buying price\"]).sum()\n",
    "\n",
    "# 2. Calculate the profit for each vendor (Firm bought from)\n",
    "vendor_profit = df.groupby(\"Firm bought from\")[\"Selling price\"].sum() - df.groupby(\"Firm bought from\")[\"Buying price\"].sum()\n",
    "most_profitable_vendor = vendor_profit.idxmax()\n",
    "\n",
    "# 3. Calculate the profit for each customer\n",
    "customer_profit = df.groupby(\"Customer\")[\"Selling price\"].sum() - df.groupby(\"Customer\")[\"Buying price\"].sum()\n",
    "least_profitable_customer = customer_profit.idxmin()\n",
    "\n",
    "# 4. Specify the date format based on your data\n",
    "date_format = \"%d/%m/%y\"  # Modify this format according to your data\n",
    "\n",
    "df[\"Date\"] = pd.to_datetime(df[\"Date\"], format=date_format)\n",
    "df[\"Day of Week\"] = df[\"Date\"].dt.day_name()\n",
    "day_profit = df.groupby(\"Day of Week\")[\"Selling price\"].sum() - df.groupby(\"Day of Week\")[\"Buying price\"].sum()\n",
    "most_profitable_day = day_profit.idxmax()\n",
    "\n",
    "# 5. Calculate the least profitable day of the week\n",
    "least_profitable_day = day_profit.idxmin()\n",
    "\n",
    "# Print the results\n",
    "print(\"1. Overall Gross Margin:\", overall_gross_margin)\n",
    "print(\"2. Most Profitable Vendor:\", most_profitable_vendor)\n",
    "print(\"3. Least Profitable Customer:\", least_profitable_customer)\n",
    "print(\"4. Most Profitable Day of the Week:\", most_profitable_day)\n",
    "print(\"5. Least Profitable Day of the Week:\", least_profitable_day)"
   ]
  },
  {
   "cell_type": "code",
   "execution_count": null,
   "id": "235ad47a-7720-426e-bb6c-05fdadaf2e38",
   "metadata": {},
   "outputs": [],
   "source": []
  }
 ],
 "metadata": {
  "kernelspec": {
   "display_name": "Python 3 (ipykernel)",
   "language": "python",
   "name": "python3"
  },
  "language_info": {
   "codemirror_mode": {
    "name": "ipython",
    "version": 3
   },
   "file_extension": ".py",
   "mimetype": "text/x-python",
   "name": "python",
   "nbconvert_exporter": "python",
   "pygments_lexer": "ipython3",
   "version": "3.11.1"
  }
 },
 "nbformat": 4,
 "nbformat_minor": 5
}
