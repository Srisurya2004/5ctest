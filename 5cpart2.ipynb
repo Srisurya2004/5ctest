{
 "cells": [
  {
   "cell_type": "code",
   "execution_count": null,
   "id": "02674ccb-2380-470e-be8d-0a06c50ba541",
   "metadata": {},
   "outputs": [],
   "source": [
    "import pandas as pd\n",
    "import numpy as np\n",
    "\n",
    "df = pd.read_csv(\"sales_data_2.csv\")\n",
    "\n",
    "df['Date'] = pd.to_datetime(df['Date'])\n",
    "\n",
    "df['Daily Gross Profit'] = df['Selling price'] - df['Buying price']\n",
    "\n",
    "df['3-Day Avg Gross Profit'] = df['Daily Gross Profit'].rolling(window=3).mean()\n",
    "\n",
    "vendor_profit = df.groupby(\"Firm bought from\")[\"Selling price\"].sum() - df.groupby(\"Firm bought from\")[\"Buying price\"].sum()\n",
    "customer_profit = df.groupby(\"Customer\")[\"Selling price\"].sum() - df.groupby(\"Customer\")[\"Buying price\"].sum()\n",
    "\n",
    "percentiles = df[['Buying price', 'Selling price']].quantile([0.25, 0.5, 0.75])\n",
    "\n",
    "below_25th = df[df['Selling price'] < percentiles.loc[0.25]['Selling price']]\n",
    "above_75th = df[df['Selling price'] > percentiles.loc[0.75]['Selling price']]\n",
    "\n",
    "print(\"1. 3-Day Average Gross Profit:\")\n",
    "print(df[['Date', '3-Day Avg Gross Profit']])\n",
    "print(\"\\n2. Insights into 3-Day Trend Changes:\")\n",
    "print(\"\\n3. Vendor Profit:\")\n",
    "print(vendor_profit)\n",
    "print(\"\\nCustomer Profit:\")\n",
    "print(customer_profit)\n",
    "print(\"\\n4. Percentiles for Buying and Selling Prices:\")\n",
    "print(\"25th Percentile:\")\n",
    "print(percentiles.loc[0.25])\n",
    "print(\"\\nMedian (50th Percentile):\")\n",
    "print(percentiles.loc[0.5])\n",
    "print(\"\\n75th Percentile:\")\n",
    "print(percentiles.loc[0.75])\n",
    "print(\"\\n5. Frequency of Prices Below 25th Percentile:\")\n",
    "print(len(below_25th))\n",
    "print(\"\\nFrequency of Prices Above 75th Percentile:\")\n",
    "print(len(above_75th))"
   ]
  }
 ],
 "metadata": {
  "kernelspec": {
   "display_name": "Python 3 (ipykernel)",
   "language": "python",
   "name": "python3"
  },
  "language_info": {
   "codemirror_mode": {
    "name": "ipython",
    "version": 3
   },
   "file_extension": ".py",
   "mimetype": "text/x-python",
   "name": "python",
   "nbconvert_exporter": "python",
   "pygments_lexer": "ipython3",
   "version": "3.11.1"
  }
 },
 "nbformat": 4,
 "nbformat_minor": 5
}
